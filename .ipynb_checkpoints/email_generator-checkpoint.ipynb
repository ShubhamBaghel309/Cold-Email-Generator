{
 "cells": [
  {
   "cell_type": "code",
   "execution_count": 30,
   "id": "7f60d686-d04f-469d-94e7-17db533b5ff5",
   "metadata": {},
   "outputs": [
    {
     "name": "stdout",
     "output_type": "stream",
     "text": [
      "The first person to land on the moon was Neil Armstrong. He stepped out of the lunar module Eagle and onto the moon's surface on July 20, 1969, during the Apollo 11 mission.\n",
      "\n",
      "The second person to walk on the moon was Edwin \"Buzz\" Aldrin. He joined Neil Armstrong on the moon's surface shortly after Armstrong's historic first steps.\n"
     ]
    }
   ],
   "source": [
    "\n",
    "from langchain_groq import ChatGroq\n",
    "\n",
    "llm = ChatGroq(\n",
    "    model=\"llama-3.1-70b-versatile\",\n",
    "    groq_api_key=\"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\",\n",
    "    temperature=0,\n",
    "    max_tokens=None,\n",
    "    timeout=None,\n",
    "    max_retries=2,\n",
    "    # other params...\n",
    ")\n",
    "response=llm.invoke(\"The first person to land on the moon was and who was second?\")\n",
    "print(response.content)"
   ]
  },
  {
   "cell_type": "code",
   "execution_count": 31,
   "id": "c885a25d-07e1-4831-be2b-1e3c69aabd63",
   "metadata": {},
   "outputs": [
    {
     "name": "stdout",
     "output_type": "stream",
     "text": [
      "Apply for Lead Software Engineer, ITC\n",
      "\n",
      "Search JobsSkip navigationSearch JobsNIKE, INC. JOBSContract JobsJoin The Talent CommunityLife @ NikeOverviewBenefitsBrandsOverviewJordanConverseTeamsOverviewAdministrative SupportAdvanced InnovationAir Manufacturing InnovationAviationCommunicationsCustomer ServiceDesignDigitalFacilitiesFinance & AccountingGovernment & Public AffairsHuman ResourcesInsights & AnalyticsLegalManufacturing & EngineeringMarketingMerchandisingPlanningPrivacyProcurementProduct Creation, Development & ManagementRetail CorporateRetail StoresSalesSocial & Community ImpactSports MarketingStrategic PlanningSupply Chain, Distribution & LogisticsSustainabilityTechnologyLocationsOverviewNike WHQNike New York HQEHQ: Hilversum, The NetherlandsELC: Laakdal, BelgiumGreater China HQDiversity, Equity & InclusionOverviewMilitary InclusionDisability InclusionIndigenous InclusionInternshipsTechnologyLead Software Engineer, ITCKarnataka, IndiaBecome a Part of the NIKE, Inc. TeamNIKE, Inc. does more than outfit the world’s best athletes. It is a place to explore potential, obliterate boundaries and push out the edges of what can be. The company looks for people who can grow, think, dream and create. Its culture thrives by embracing diversity and rewarding imagination. The brand seeks achievers, leaders and visionaries. At NIKE, Inc. it’s about each person bringing skills and passion to a challenging and constantly evolving game.NIKE is a technology company. From our flagship website and five-star mobile apps to developing products, managing big data and providing leading edge engineering and systems support, our teams at NIKE Global Technology exist to revolutionize the future at the confluence of tech and sport. We invest and develop advances in technology and employ the most creative people in the world, and then give them the support to constantly innovate, iterate and serve consumers more directly and personally.  Our teams are innovative, diverse, multidisciplinary and collaborative, taking technology into the future and bringing the world with it.Supply Chain & Planning Technology (SCPT) team under GlobaL Technology (GT) at Nike  is implementing Integrated Business Planning across demand and supply management. Our vision is to optimize demand and supply to serve customers and drive profitable growth through Merchandize Financial Planning and Assortment planning for Nike Consumer Channels and its Partners. Primary focus is to build technology platforms harnessing the data, art and science to drive better business decisions and outcomes. We will do this by creating an environment where everyone thrives with a growth mindset culture with smart risk taking, measurement and continuous learning. Our products will be driven by Customer focus, User centric design and mindset.WHO WE ARE LOOKING FORIn this role we are looking for a high potential Lead Engineer with strong Planning domain expertise to lead and mentor a team of engineers with a focus to develop solutions for the various products of Demand & Supply Planning capability. As a Lead Engineer you are thoughtful, aspirational and adept at solutioning, architecture and hands on delivery.Advocate and implement business transformation solutions and best practices.Advocate DevOps practices & mindset and strong culture of innovationWHAT YOU WILL WORK ONDemand  & Supply planning application deisgn and implementation with emphasis on distributed systems concepts.Implement business solutions leveraging custom data platform and O9  platform.Design, develop, configure ,review code, and deploy cloud-based products.Drive engineering activities from designing through deployment while adhering to established Architectural guidelines and principles.Collaborate with other stake holders across the Enterprise, Planning technical platforms, technology stack and solutions to meet demand of our ever-changing consumer needs.Provide insights for developing and communicating Technology Strategy and roadmap; ensure alignment to planing technology strategies.Manage and prioritize the product backlog on an ongoing basis and lead work through Agile practices.Commitment to and hands-on experience in leading/performing technical quality reviews and test-driven development.Build strong domain acumen to deliver to product strategy, value drops and business outcomesWHO YOU WILL WORK WITHCollaborate with Product Managers to understand requirements to define scope and estimate level of effort. Ensure that Engineers on the team have the full context and understanding of customers and business requirements to create valuable solutions.Help build an effective team and partnership with stakeholders.Lead, mentor, and inspire Engineering team, managing work and delivering high performing solutions.Establish trust and build strong and effective partnership with technical leaders and architects in various functions across regions/global locationsPartner effectively with vendor partners contingent workforce to ensure delivery and positive resultsThis role will report to the leader of Engineering accountable to deliver demand and supply capability solutions to Nike Planning users.WHAT YOU BRINGBachelor of Engineering in Computer Science, Information Systems or other relevant subject area related to information technology8+ years hands on experience in technical architecture, design, development & of demand or inventory planning products/applicationsHands on development and configuration in supporting product needs.Experience in Integrated Business Planning solutions like O9 is MandatoryStrong techno-functional experience in planning business domain, data domains, planning algorithms and solvers.Strong experience in PL/SQL and working on data products and data analysis of Planinng is required.A minimum of 3 years of experience working cloud environments such as AWS, Azure or GCPExcellent understanding of business processes in Enterprise Planning–preferably in end to end demand and supply Planning and Deployment.Expert knowledge and experience with a diversity of tools and platformsProven ability to rapidly learn new functional domains, developing and implementing proof of conceptsExperience developing applications that has data and app complexityExperience with Scrum and other Agile processes. Knowledge of Jira, Git/SVN, Jenkins, CI/CD pipelinesComfortable working in a multi-tasking, fast-paced, results-oriented environment and maturity in understanding and managing team dyanmics.Excellent verbal and written communication and collaboration skills to effectively communicate with both business and technical IT teams across global locationsPassion for building trust, coaching, teaching, mentoring and learning.NIKE, Inc. is a growth company that looks for team members to grow with it. Nike offers a generous total rewards package, casual work environment, a diverse and inclusive culture, and an electric atmosphere for professional development. No matter the location, or the role, every Nike employee shares one galvanizing mission: To bring inspiration and innovation to every athlete* in the world.NIKE, Inc. is committed to employing a diverse workforce. Qualified applicants will receive consideration without regard to race, color, religion, sex, national origin, age, sexual orientation, gender identity, gender expression, veteran status, or disability.How We HireAt NIKE, Inc. we promise to provide a premium, inclusive, compelling and authentic candidate experience. Delivering on this promise means we allow you to be at your best — and to do that, you need to understand how the hiring process works. Transparency is key.\n",
      "\n",
      "* This overview explains our hiring process for corporate roles. Note there may be different hiring steps involved for non-corporate roles.Start nowBenefitsWhether it’s transportation or financial health, we continually invest in our employees to help them achieve greatness — inside and outside of work. All who work here should be able to realize their full potential.Employee Assistance ProgramHolidaysMedical PlanPaid Time Off (PTO)Product DiscountsLearn moreFIND A STOREBECOME A MEMBERSIGN UP FOR EMAILSEND US FEEDBACKSTUDENT DISCOUNTSGET HELPGET HELPOrder StatusDeliveryReturnsPayment OptionsContact Us On Nike.com InquiriesContact Us On All Other InquiriesABOUT NIKEABOUT NIKENewsCareersInvestorsSustainabilityIndia© 2024 Nike, Inc. All Rights ReservedGuidesNike AdaptNike Air MaxNike FlyleatherNike PegasusNike Zoom FlyNike AirNike FlyEaseNike FreeNike ReactNike ZoomXNike Air Force 1Nike FlyknitNike JoyrideNike VaporflyTerms of SaleTerms of UseNike Privacy Policy\n"
     ]
    }
   ],
   "source": [
    "from langchain_community.document_loaders import WebBaseLoader\n",
    "\n",
    "loader = WebBaseLoader(\"https://jobs.nike.com/job/R-36827\")\n",
    "page_data=loader.load().pop().page_content\n",
    "print(page_data)"
   ]
  },
  {
   "cell_type": "code",
   "execution_count": 48,
   "id": "aae036a2-493a-4f65-8264-8927afdc22b1",
   "metadata": {},
   "outputs": [
    {
     "name": "stdout",
     "output_type": "stream",
     "text": [
      "```json\n",
      "[\n",
      "  {\n",
      "    \"role\": \"Software Engineer\",\n",
      "    \"experience\": \"3-5 years\",\n",
      "    \"skills\": [\"Java\", \"Python\", \"AWS\"],\n",
      "    \"description\": \"We are seeking a highly skilled Software Engineer to join our team. The ideal candidate will have experience in Java and Python, as well as experience with AWS. The candidate will be responsible for designing, developing, and testing software applications.\"\n",
      "  },\n",
      "  {\n",
      "    \"role\": \"Data Scientist\",\n",
      "    \"experience\": \"5-7 years\",\n",
      "    \"skills\": [\"Python\", \"R\", \"Machine Learning\"],\n",
      "    \"description\": \"We are looking for a Data Scientist to join our team. The ideal candidate will have experience in Python and R, as well as experience with machine learning algorithms. The candidate will be responsible for analyzing complex data sets and developing predictive models.\"\n",
      "  },\n",
      "  {\n",
      "    \"role\": \"DevOps Engineer\",\n",
      "    \"experience\": \"2-4 years\",\n",
      "    \"skills\": [\"AWS\", \"Docker\", \"Kubernetes\"],\n",
      "    \"description\": \"We are seeking a highly skilled DevOps Engineer to join our team. The ideal candidate will have experience with AWS, Docker, and Kubernetes. The candidate will be responsible for designing and implementing scalable and secure infrastructure solutions.\"\n",
      "  }\n",
      "]\n",
      "```\n"
     ]
    }
   ],
   "source": [
    "from langchain_core.prompts import PromptTemplate\n",
    "\n",
    "prompt_extract = PromptTemplate.from_template(\n",
    "    \"\"\"\n",
    "    ###SCRAPED TEXT FROM WEBSITE\n",
    "    {page_data}\n",
    "    ###INSTRUCTION:\n",
    "    you scraped text from the carrer's page of a website.\n",
    "    your job is to extract the job postings and return them in json format\n",
    "    containing following keys:`role`,`experience`,`skills` and `description`.\n",
    "    Only return the valid JSON.\n",
    "    ###VALID JSON (NO PREAMBLE)\"\"\"\n",
    ")\n",
    "chain_extract=prompt_extract | llm\n",
    "res=chain_extract.invoke(input={'page_data'})\n",
    "print(res.content)"
   ]
  },
  {
   "cell_type": "code",
   "execution_count": 51,
   "id": "bf64008b-8851-4f8e-9e44-057c8ccbdbee",
   "metadata": {},
   "outputs": [],
   "source": [
    "from langchain_core.output_parsers import JsonOutputParser\n",
    "json_parser=JsonOutputParser()\n",
    "json_res=json_parser.parse(res.content)\n",
    "json_res=json_res[0]"
   ]
  },
  {
   "cell_type": "code",
   "execution_count": 52,
   "id": "43113811-6f42-4e4a-bbbe-f259fe88236f",
   "metadata": {},
   "outputs": [
    {
     "data": {
      "text/plain": [
       "{'role': 'Software Engineer',\n",
       " 'experience': '3-5 years',\n",
       " 'skills': ['Java', 'Python', 'AWS'],\n",
       " 'description': 'We are seeking a highly skilled Software Engineer to join our team. The ideal candidate will have experience in Java and Python, as well as experience with AWS. The candidate will be responsible for designing, developing, and testing software applications.'}"
      ]
     },
     "execution_count": 52,
     "metadata": {},
     "output_type": "execute_result"
    }
   ],
   "source": [
    "json_res"
   ]
  },
  {
   "cell_type": "code",
   "execution_count": 53,
   "id": "7aa1ebcd-25c6-4cb5-8be9-6367175c98c1",
   "metadata": {},
   "outputs": [
    {
     "data": {
      "text/html": [
       "<div>\n",
       "<style scoped>\n",
       "    .dataframe tbody tr th:only-of-type {\n",
       "        vertical-align: middle;\n",
       "    }\n",
       "\n",
       "    .dataframe tbody tr th {\n",
       "        vertical-align: top;\n",
       "    }\n",
       "\n",
       "    .dataframe thead th {\n",
       "        text-align: right;\n",
       "    }\n",
       "</style>\n",
       "<table border=\"1\" class=\"dataframe\">\n",
       "  <thead>\n",
       "    <tr style=\"text-align: right;\">\n",
       "      <th></th>\n",
       "      <th>Techstack</th>\n",
       "      <th>Links</th>\n",
       "    </tr>\n",
       "  </thead>\n",
       "  <tbody>\n",
       "    <tr>\n",
       "      <th>0</th>\n",
       "      <td>React, Node.js, MongoDB</td>\n",
       "      <td>https://example.com/react-portfolio</td>\n",
       "    </tr>\n",
       "    <tr>\n",
       "      <th>1</th>\n",
       "      <td>Angular,.NET, SQL Server</td>\n",
       "      <td>https://example.com/angular-portfolio</td>\n",
       "    </tr>\n",
       "    <tr>\n",
       "      <th>2</th>\n",
       "      <td>Vue.js, Ruby on Rails, PostgreSQL</td>\n",
       "      <td>https://example.com/vue-portfolio</td>\n",
       "    </tr>\n",
       "    <tr>\n",
       "      <th>3</th>\n",
       "      <td>Python, Django, MySQL</td>\n",
       "      <td>https://example.com/python-portfolio</td>\n",
       "    </tr>\n",
       "    <tr>\n",
       "      <th>4</th>\n",
       "      <td>Java, Spring Boot, Oracle</td>\n",
       "      <td>https://example.com/java-portfolio</td>\n",
       "    </tr>\n",
       "    <tr>\n",
       "      <th>5</th>\n",
       "      <td>Flutter, Firebase, GraphQL</td>\n",
       "      <td>https://example.com/flutter-portfolio</td>\n",
       "    </tr>\n",
       "    <tr>\n",
       "      <th>6</th>\n",
       "      <td>WordPress, PHP, MySQL</td>\n",
       "      <td>https://example.com/wordpress-portfolio</td>\n",
       "    </tr>\n",
       "    <tr>\n",
       "      <th>7</th>\n",
       "      <td>Magento, PHP, MySQL</td>\n",
       "      <td>https://example.com/magento-portfolio</td>\n",
       "    </tr>\n",
       "    <tr>\n",
       "      <th>8</th>\n",
       "      <td>React Native, Node.js, MongoDB</td>\n",
       "      <td>https://example.com/react-native-portfolio</td>\n",
       "    </tr>\n",
       "    <tr>\n",
       "      <th>9</th>\n",
       "      <td>iOS, Swift, Core Data</td>\n",
       "      <td>https://example.com/ios-portfolio</td>\n",
       "    </tr>\n",
       "    <tr>\n",
       "      <th>10</th>\n",
       "      <td>Android, Java, Room Persistence</td>\n",
       "      <td>https://example.com/android-portfolio</td>\n",
       "    </tr>\n",
       "    <tr>\n",
       "      <th>11</th>\n",
       "      <td>Kotlin, Android, Firebase</td>\n",
       "      <td>https://example.com/kotlin-android-portfolio</td>\n",
       "    </tr>\n",
       "    <tr>\n",
       "      <th>12</th>\n",
       "      <td>Android TV, Kotlin, Android NDK</td>\n",
       "      <td>https://example.com/android-tv-portfolio</td>\n",
       "    </tr>\n",
       "    <tr>\n",
       "      <th>13</th>\n",
       "      <td>iOS, Swift, ARKit</td>\n",
       "      <td>https://example.com/ios-ar-portfolio</td>\n",
       "    </tr>\n",
       "    <tr>\n",
       "      <th>14</th>\n",
       "      <td>Cross-platform, Xamarin, Azure</td>\n",
       "      <td>https://example.com/xamarin-portfolio</td>\n",
       "    </tr>\n",
       "    <tr>\n",
       "      <th>15</th>\n",
       "      <td>Backend, Kotlin, Spring Boot</td>\n",
       "      <td>https://example.com/kotlin-backend-portfolio</td>\n",
       "    </tr>\n",
       "    <tr>\n",
       "      <th>16</th>\n",
       "      <td>Frontend, TypeScript, Angular</td>\n",
       "      <td>https://example.com/typescript-frontend-portfolio</td>\n",
       "    </tr>\n",
       "    <tr>\n",
       "      <th>17</th>\n",
       "      <td>Full-stack, JavaScript, Express.js</td>\n",
       "      <td>https://example.com/full-stack-js-portfolio</td>\n",
       "    </tr>\n",
       "    <tr>\n",
       "      <th>18</th>\n",
       "      <td>Machine Learning, Python, TensorFlow</td>\n",
       "      <td>https://example.com/ml-python-portfolio</td>\n",
       "    </tr>\n",
       "    <tr>\n",
       "      <th>19</th>\n",
       "      <td>DevOps, Jenkins, Docker</td>\n",
       "      <td>https://example.com/devops-portfolio</td>\n",
       "    </tr>\n",
       "  </tbody>\n",
       "</table>\n",
       "</div>"
      ],
      "text/plain": [
       "                               Techstack  \\\n",
       "0                React, Node.js, MongoDB   \n",
       "1               Angular,.NET, SQL Server   \n",
       "2      Vue.js, Ruby on Rails, PostgreSQL   \n",
       "3                  Python, Django, MySQL   \n",
       "4              Java, Spring Boot, Oracle   \n",
       "5             Flutter, Firebase, GraphQL   \n",
       "6                  WordPress, PHP, MySQL   \n",
       "7                    Magento, PHP, MySQL   \n",
       "8         React Native, Node.js, MongoDB   \n",
       "9                  iOS, Swift, Core Data   \n",
       "10       Android, Java, Room Persistence   \n",
       "11             Kotlin, Android, Firebase   \n",
       "12       Android TV, Kotlin, Android NDK   \n",
       "13                     iOS, Swift, ARKit   \n",
       "14        Cross-platform, Xamarin, Azure   \n",
       "15          Backend, Kotlin, Spring Boot   \n",
       "16         Frontend, TypeScript, Angular   \n",
       "17    Full-stack, JavaScript, Express.js   \n",
       "18  Machine Learning, Python, TensorFlow   \n",
       "19               DevOps, Jenkins, Docker   \n",
       "\n",
       "                                                Links  \n",
       "0                 https://example.com/react-portfolio  \n",
       "1               https://example.com/angular-portfolio  \n",
       "2                   https://example.com/vue-portfolio  \n",
       "3                https://example.com/python-portfolio  \n",
       "4                  https://example.com/java-portfolio  \n",
       "5               https://example.com/flutter-portfolio  \n",
       "6             https://example.com/wordpress-portfolio  \n",
       "7               https://example.com/magento-portfolio  \n",
       "8          https://example.com/react-native-portfolio  \n",
       "9                   https://example.com/ios-portfolio  \n",
       "10              https://example.com/android-portfolio  \n",
       "11       https://example.com/kotlin-android-portfolio  \n",
       "12           https://example.com/android-tv-portfolio  \n",
       "13               https://example.com/ios-ar-portfolio  \n",
       "14              https://example.com/xamarin-portfolio  \n",
       "15       https://example.com/kotlin-backend-portfolio  \n",
       "16  https://example.com/typescript-frontend-portfolio  \n",
       "17        https://example.com/full-stack-js-portfolio  \n",
       "18            https://example.com/ml-python-portfolio  \n",
       "19               https://example.com/devops-portfolio  "
      ]
     },
     "execution_count": 53,
     "metadata": {},
     "output_type": "execute_result"
    }
   ],
   "source": [
    "import pandas as pd\n",
    "df=pd.read_csv(\"my_portfolio.csv\")\n",
    "df"
   ]
  },
  {
   "cell_type": "code",
   "execution_count": 54,
   "id": "41cc9978-c938-4934-bdc4-df8beff41333",
   "metadata": {},
   "outputs": [],
   "source": [
    "import chromadb\n",
    "import uuid\n",
    "\n",
    "client= chromadb.PersistentClient('vectorstore')\n",
    "collection=client.get_or_create_collection(name=\"porfolio\")\n",
    "if not collection.count():\n",
    "    for _,row in df.iterrows():\n",
    "        collection.add(documents=row[\"Techstack\"],\n",
    "                      metadatas={\"links\":row[\"Links\"]},\n",
    "                      ids=[str(uuid.uuid4())])\n",
    "                            "
   ]
  },
  {
   "cell_type": "code",
   "execution_count": 58,
   "id": "a24991f3-60ec-4fe9-98a2-38ff8d326663",
   "metadata": {},
   "outputs": [
    {
     "data": {
      "text/plain": [
       "[[{'links': 'https://example.com/java-portfolio'},\n",
       "  {'links': 'https://example.com/android-portfolio'}],\n",
       " [{'links': 'https://example.com/ml-python-portfolio'},\n",
       "  {'links': 'https://example.com/python-portfolio'}],\n",
       " [{'links': 'https://example.com/ios-ar-portfolio'},\n",
       "  {'links': 'https://example.com/wordpress-portfolio'}]]"
      ]
     },
     "execution_count": 58,
     "metadata": {},
     "output_type": "execute_result"
    }
   ],
   "source": [
    "links=collection.query(query_texts=['Java', 'Python', 'AWS'],n_results=2).get('metadatas')\n",
    "links"
   ]
  },
  {
   "cell_type": "code",
   "execution_count": 59,
   "id": "0cbefa11-f807-445f-ac3d-3c21a432b3a3",
   "metadata": {},
   "outputs": [
    {
     "data": {
      "text/plain": [
       "['Java', 'Python', 'AWS']"
      ]
     },
     "execution_count": 59,
     "metadata": {},
     "output_type": "execute_result"
    }
   ],
   "source": [
    "job=json_res\n",
    "job['skills']\n"
   ]
  },
  {
   "cell_type": "code",
   "execution_count": 60,
   "id": "8ed1043c-5caf-410c-ba25-07e3ebba131c",
   "metadata": {},
   "outputs": [
    {
     "data": {
      "text/plain": [
       "{'role': 'Software Engineer',\n",
       " 'experience': '3-5 years',\n",
       " 'skills': ['Java', 'Python', 'AWS'],\n",
       " 'description': 'We are seeking a highly skilled Software Engineer to join our team. The ideal candidate will have experience in Java and Python, as well as experience with AWS. The candidate will be responsible for designing, developing, and testing software applications.'}"
      ]
     },
     "execution_count": 60,
     "metadata": {},
     "output_type": "execute_result"
    }
   ],
   "source": [
    "job"
   ]
  },
  {
   "cell_type": "code",
   "execution_count": 61,
   "id": "1349e7d0-42c7-439c-a7d0-6479237beb84",
   "metadata": {},
   "outputs": [
    {
     "name": "stdout",
     "output_type": "stream",
     "text": [
      "Subject: Expert Software Engineering Solutions for Your Business Needs\n",
      "\n",
      "Dear Hiring Manager,\n",
      "\n",
      "I came across your job posting for a Software Engineer with expertise in Java, Python, and AWS. I'd like to introduce you to AtliQ, an AI & Software Consulting company that has been empowering enterprises with tailored solutions, fostering scalability, process optimization, cost reduction, and heightened overall efficiency.\n",
      "\n",
      "Our team of expert software engineers has extensive experience in designing, developing, and testing software applications using Java and Python. We have a proven track record of delivering high-quality solutions on AWS, ensuring seamless integration and scalability. Our expertise in software engineering is backed by our portfolio, which includes:\n",
      "\n",
      "* Java-based solutions: https://example.com/java-portfolio\n",
      "* Python-based solutions: https://example.com/python-portfolio\n",
      "* Machine Learning solutions using Python: https://example.com/ml-python-portfolio\n",
      "\n",
      "At AtliQ, we understand the importance of finding the right talent to drive business growth. Our team can help you augment your engineering capabilities, ensuring that your software applications meet the highest standards of quality and performance.\n",
      "\n",
      "If you're looking for a reliable partner to help you find the best software engineering talent or need assistance with your software development needs, I'd be happy to schedule a call to discuss further.\n",
      "\n",
      "Please feel free to reach out to me directly at [Your Email Address] or [Your Phone Number]. I look forward to exploring how AtliQ can help you achieve your business goals.\n",
      "\n",
      "Best regards,\n",
      "\n",
      "Mohan\n",
      "Business Development Executive\n",
      "AtliQ\n"
     ]
    }
   ],
   "source": [
    "prompt_email = PromptTemplate.from_template(\n",
    "        \"\"\"\n",
    "        ### JOB DESCRIPTION:\n",
    "        {job_description}\n",
    "        \n",
    "        ### INSTRUCTION:\n",
    "        You are Mohan, a business development executive at AtliQ. AtliQ is an AI & Software Consulting company dedicated to facilitating\n",
    "        the seamless integration of business processes through automated tools. \n",
    "        Over our experience, we have empowered numerous enterprises with tailored solutions, fostering scalability, \n",
    "        process optimization, cost reduction, and heightened overall efficiency. \n",
    "        Your job is to write a cold email to the client regarding the job mentioned above describing the capability of AtliQ \n",
    "        in fulfilling their needs.\n",
    "        Also add the most relevant ones from the following links to showcase Atliq's portfolio: {link_list}\n",
    "        Remember you are Mohan, BDE at AtliQ. \n",
    "        Do not provide a preamble.\n",
    "        ### EMAIL (NO PREAMBLE):\n",
    "        \n",
    "        \"\"\"\n",
    "        )\n",
    "\n",
    "chain_email = prompt_email | llm\n",
    "res = chain_email.invoke({\"job_description\": str(job), \"link_list\": links})\n",
    "print(res.content)"
   ]
  },
  {
   "cell_type": "code",
   "execution_count": null,
   "id": "86067420-2076-44cb-b5cb-7e43dfec1a09",
   "metadata": {},
   "outputs": [],
   "source": []
  }
 ],
 "metadata": {
  "kernelspec": {
   "display_name": "Python 3 (ipykernel)",
   "language": "python",
   "name": "python3"
  },
  "language_info": {
   "codemirror_mode": {
    "name": "ipython",
    "version": 3
   },
   "file_extension": ".py",
   "mimetype": "text/x-python",
   "name": "python",
   "nbconvert_exporter": "python",
   "pygments_lexer": "ipython3",
   "version": "3.12.4"
  }
 },
 "nbformat": 4,
 "nbformat_minor": 5
}
