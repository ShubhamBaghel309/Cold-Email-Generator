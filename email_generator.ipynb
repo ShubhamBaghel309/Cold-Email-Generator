{
 "cells": [
  {
   "cell_type": "code",
   "execution_count": 1,
   "id": "7f60d686-d04f-469d-94e7-17db533b5ff5",
   "metadata": {},
   "outputs": [
    {
     "name": "stdout",
     "output_type": "stream",
     "text": [
      "The first person to land on the moon was Neil Armstrong. He stepped out of the lunar module Eagle and onto the moon's surface on July 20, 1969.\n",
      "\n",
      "The second person to walk on the moon was Edwin \"Buzz\" Aldrin. He joined Neil Armstrong on the moon's surface shortly after Armstrong's historic first steps.\n"
     ]
    }
   ],
   "source": [
    "from langchain_groq import ChatGroq\n",
    "\n",
    "llm = ChatGroq(\n",
    "    model=\"llama-3.1-70b-versatile\",\n",
    "    groq_api_key=\"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\",\n",
    "    temperature=0,\n",
    "    max_tokens=None,\n",
    "    timeout=None,\n",
    "    max_retries=2,\n",
    "    # other params...\n",
    ")\n",
    "response=llm.invoke(\"The first person to land on the moon was and who was second?\")\n",
    "print(response.content)"
   ]
  },
  {
   "cell_type": "code",
   "execution_count": 2,
   "id": "c885a25d-07e1-4831-be2b-1e3c69aabd63",
   "metadata": {},
   "outputs": [
    {
     "name": "stderr",
     "output_type": "stream",
     "text": [
      "USER_AGENT environment variable not set, consider setting it to identify your requests.\n"
     ]
    },
    {
     "name": "stdout",
     "output_type": "stream",
     "text": [
      "\n",
      "\n",
      "\n",
      "\n",
      "\n",
      "\n",
      "\n",
      "\n",
      "\n",
      "\n",
      "\n",
      "\n",
      "\n",
      "\n",
      "\n",
      "\n",
      "\n",
      "\n",
      "\n",
      "\n",
      "\n",
      "\n",
      "\n",
      "\n",
      "\n",
      "\n",
      "\n",
      "\n",
      "\n",
      "\n",
      "\n",
      "\n",
      "Amazon University Talent Acquisition (AUTA)\n",
      "Skip to main contentHomeTeamsLocationsJob categoriesMy careerMy applicationsMy profileAccount securitySettingsSign outResourcesDisability accommodationsBenefitsDiversity, equity, and inclusionInterview tipsLeadership principlesWorking at AmazonFAQ× Amazon University TalentInfluence the Amazon of tomorrowAmazon internships and full-time roles for graduates give you the opportunity to solve problems, innovate on behalf of our customers, and shape our business.Find open university rolesAboutDesign your careerAt Amazon, your career will grow in new and exciting directions—designed by you. You’ll have the opportunity to be part of innovative projects, lead initiatives, and take ownership and responsibility.Here, you’ll work with groundbreaking technology and learn from the best all over the world, united with the common goal to delight our customers.Our internship roles for students, and our full-time roles for graduates, give you the chance to make a real impact on the lives of millions.Internships for studentsFull-time roles for graduatesFeatured programsSpecialized student opportunitiesOperations opportunities for studentsUse innovative technologies to support customers through our global network of fulfillment centers and delivery stations.AWS internshipsExplore the cloud industry and build real-world skills and connections with AWS.Amazon PathwaysReach senior levels within Amazon Operations with the Pathways Operations Leadership Program. MBA or higher.TestimonialsHear from recent Amazon internsComing into Amazon as an intern, I’ve seen the most talented people who inspire me to be better, want to improve, and do what I do every day.EdwardSoftware Development EngineerThere’s no typical day at Amazon, and that’s what I love about it most. Here, I’m given the flexibility to create processes that directly help people.RiaProgram ManagerI’m looking forward to contributing to Amazon’s mission and making a positive impact in the industry. I’m eager to have an enriching learning experience of six months, which will be a fantastic head start for my career.PratikSDE internPerspectivesBuild the future at AmazonLove your workDownload video transcriptShreya, from intern to software engineer.A day in the lifeDownload video transcriptSpend a day with Kazeem.Path to successDownload video transcriptEdward, intern turned software development engineer.Join the Amazon university talent community.Interested in student opportunities at Amazon? Sign up today and we’ll keep you posted on relevant roles and how to apply.Join our University Talent Network JOIN US ONFind CareersJob CategoriesTeamsLocationsUS and EU Military recruitingWarehouse and Hourly JobsWorking At AmazonCultureBenefitsAmazon NewsletterDiversity at AmazonOur leadership principlesHelpFAQInterview tipsReview application statusDisability accommodationsEU background checksAmazon is committed to a diverse and inclusive workplace. Amazon is an equal opportunity employer and does not discriminate on the basis of race, national origin, gender, gender identity, sexual orientation, protected veteran status, disability, age, or other legally protected status.Privacy and DataImpressum© 1996-2024, Amazon.com, Inc. or its affiliates\n"
     ]
    }
   ],
   "source": [
    "from langchain_community.document_loaders import WebBaseLoader\n",
    "\n",
    "loader = WebBaseLoader(\"https://www.amazon.jobs/content/en/career-programs/university\")\n",
    "page_data=loader.load().pop().page_content\n",
    "print(page_data)"
   ]
  },
  {
   "cell_type": "code",
   "execution_count": 3,
   "id": "aae036a2-493a-4f65-8264-8927afdc22b1",
   "metadata": {},
   "outputs": [
    {
     "name": "stdout",
     "output_type": "stream",
     "text": [
      "```json\n",
      "[\n",
      "  {\n",
      "    \"role\": \"Software Engineer\",\n",
      "    \"experience\": \"3-5 years\",\n",
      "    \"skills\": [\"Java\", \"Spring Boot\", \"MySQL\"],\n",
      "    \"description\": \"We are looking for a skilled Software Engineer to join our team. The ideal candidate will have experience in Java, Spring Boot, and MySQL. Responsibilities include designing, developing, and testing software applications.\"\n",
      "  },\n",
      "  {\n",
      "    \"role\": \"Data Scientist\",\n",
      "    \"experience\": \"5-7 years\",\n",
      "    \"skills\": [\"Python\", \"Machine Learning\", \"Data Visualization\"],\n",
      "    \"description\": \"We are seeking a highly skilled Data Scientist to join our team. The ideal candidate will have experience in Python, Machine Learning, and Data Visualization. Responsibilities include analyzing complex data sets, developing predictive models, and creating data visualizations.\"\n",
      "  },\n",
      "  {\n",
      "    \"role\": \"DevOps Engineer\",\n",
      "    \"experience\": \"2-4 years\",\n",
      "    \"skills\": [\"AWS\", \"Docker\", \"Kubernetes\"],\n",
      "    \"description\": \"We are looking for a skilled DevOps Engineer to join our team. The ideal candidate will have experience in AWS, Docker, and Kubernetes. Responsibilities include designing, implementing, and maintaining our cloud infrastructure.\"\n",
      "  }\n",
      "]\n",
      "```\n"
     ]
    }
   ],
   "source": [
    "from langchain_core.prompts import PromptTemplate\n",
    "\n",
    "prompt_extract = PromptTemplate.from_template(\n",
    "    \"\"\"\n",
    "    ###SCRAPED TEXT FROM WEBSITE\n",
    "    {page_data}\n",
    "    ###INSTRUCTION:\n",
    "    you scraped text from the carrer's page of a website.\n",
    "    your job is to extract the job postings and return them in json format\n",
    "    containing following keys:`role`,`experience`,`skills` and `description`.\n",
    "    Only return the valid JSON.\n",
    "    ###VALID JSON (NO PREAMBLE)\"\"\"\n",
    ")\n",
    "chain_extract=prompt_extract | llm\n",
    "res=chain_extract.invoke(input={'page_data'})\n",
    "print(res.content)"
   ]
  },
  {
   "cell_type": "code",
   "execution_count": 4,
   "id": "bf64008b-8851-4f8e-9e44-057c8ccbdbee",
   "metadata": {},
   "outputs": [],
   "source": [
    "from langchain_core.output_parsers import JsonOutputParser\n",
    "json_parser=JsonOutputParser()\n",
    "json_res=json_parser.parse(res.content)\n",
    "json_res=json_res[0]"
   ]
  },
  {
   "cell_type": "code",
   "execution_count": 5,
   "id": "43113811-6f42-4e4a-bbbe-f259fe88236f",
   "metadata": {},
   "outputs": [
    {
     "data": {
      "text/plain": [
       "{'role': 'Software Engineer',\n",
       " 'experience': '3-5 years',\n",
       " 'skills': ['Java', 'Spring Boot', 'MySQL'],\n",
       " 'description': 'We are looking for a skilled Software Engineer to join our team. The ideal candidate will have experience in Java, Spring Boot, and MySQL. Responsibilities include designing, developing, and testing software applications.'}"
      ]
     },
     "execution_count": 5,
     "metadata": {},
     "output_type": "execute_result"
    }
   ],
   "source": [
    "json_res"
   ]
  },
  {
   "cell_type": "code",
   "execution_count": 6,
   "id": "7aa1ebcd-25c6-4cb5-8be9-6367175c98c1",
   "metadata": {},
   "outputs": [
    {
     "data": {
      "text/html": [
       "<div>\n",
       "<style scoped>\n",
       "    .dataframe tbody tr th:only-of-type {\n",
       "        vertical-align: middle;\n",
       "    }\n",
       "\n",
       "    .dataframe tbody tr th {\n",
       "        vertical-align: top;\n",
       "    }\n",
       "\n",
       "    .dataframe thead th {\n",
       "        text-align: right;\n",
       "    }\n",
       "</style>\n",
       "<table border=\"1\" class=\"dataframe\">\n",
       "  <thead>\n",
       "    <tr style=\"text-align: right;\">\n",
       "      <th></th>\n",
       "      <th>Techstack</th>\n",
       "      <th>Links</th>\n",
       "    </tr>\n",
       "  </thead>\n",
       "  <tbody>\n",
       "    <tr>\n",
       "      <th>0</th>\n",
       "      <td>React, Node.js, MongoDB</td>\n",
       "      <td>https://example.com/react-portfolio</td>\n",
       "    </tr>\n",
       "    <tr>\n",
       "      <th>1</th>\n",
       "      <td>Angular,.NET, SQL Server</td>\n",
       "      <td>https://example.com/angular-portfolio</td>\n",
       "    </tr>\n",
       "    <tr>\n",
       "      <th>2</th>\n",
       "      <td>Vue.js, Ruby on Rails, PostgreSQL</td>\n",
       "      <td>https://example.com/vue-portfolio</td>\n",
       "    </tr>\n",
       "    <tr>\n",
       "      <th>3</th>\n",
       "      <td>Python, Django, MySQL</td>\n",
       "      <td>https://example.com/python-portfolio</td>\n",
       "    </tr>\n",
       "    <tr>\n",
       "      <th>4</th>\n",
       "      <td>Java, Spring Boot, Oracle</td>\n",
       "      <td>https://example.com/java-portfolio</td>\n",
       "    </tr>\n",
       "    <tr>\n",
       "      <th>5</th>\n",
       "      <td>Flutter, Firebase, GraphQL</td>\n",
       "      <td>https://example.com/flutter-portfolio</td>\n",
       "    </tr>\n",
       "    <tr>\n",
       "      <th>6</th>\n",
       "      <td>WordPress, PHP, MySQL</td>\n",
       "      <td>https://example.com/wordpress-portfolio</td>\n",
       "    </tr>\n",
       "    <tr>\n",
       "      <th>7</th>\n",
       "      <td>Magento, PHP, MySQL</td>\n",
       "      <td>https://example.com/magento-portfolio</td>\n",
       "    </tr>\n",
       "    <tr>\n",
       "      <th>8</th>\n",
       "      <td>React Native, Node.js, MongoDB</td>\n",
       "      <td>https://example.com/react-native-portfolio</td>\n",
       "    </tr>\n",
       "    <tr>\n",
       "      <th>9</th>\n",
       "      <td>iOS, Swift, Core Data</td>\n",
       "      <td>https://example.com/ios-portfolio</td>\n",
       "    </tr>\n",
       "    <tr>\n",
       "      <th>10</th>\n",
       "      <td>Android, Java, Room Persistence</td>\n",
       "      <td>https://example.com/android-portfolio</td>\n",
       "    </tr>\n",
       "    <tr>\n",
       "      <th>11</th>\n",
       "      <td>Kotlin, Android, Firebase</td>\n",
       "      <td>https://example.com/kotlin-android-portfolio</td>\n",
       "    </tr>\n",
       "    <tr>\n",
       "      <th>12</th>\n",
       "      <td>Android TV, Kotlin, Android NDK</td>\n",
       "      <td>https://example.com/android-tv-portfolio</td>\n",
       "    </tr>\n",
       "    <tr>\n",
       "      <th>13</th>\n",
       "      <td>iOS, Swift, ARKit</td>\n",
       "      <td>https://example.com/ios-ar-portfolio</td>\n",
       "    </tr>\n",
       "    <tr>\n",
       "      <th>14</th>\n",
       "      <td>Cross-platform, Xamarin, Azure</td>\n",
       "      <td>https://example.com/xamarin-portfolio</td>\n",
       "    </tr>\n",
       "    <tr>\n",
       "      <th>15</th>\n",
       "      <td>Backend, Kotlin, Spring Boot</td>\n",
       "      <td>https://example.com/kotlin-backend-portfolio</td>\n",
       "    </tr>\n",
       "    <tr>\n",
       "      <th>16</th>\n",
       "      <td>Frontend, TypeScript, Angular</td>\n",
       "      <td>https://example.com/typescript-frontend-portfolio</td>\n",
       "    </tr>\n",
       "    <tr>\n",
       "      <th>17</th>\n",
       "      <td>Full-stack, JavaScript, Express.js</td>\n",
       "      <td>https://example.com/full-stack-js-portfolio</td>\n",
       "    </tr>\n",
       "    <tr>\n",
       "      <th>18</th>\n",
       "      <td>Machine Learning, Python, TensorFlow</td>\n",
       "      <td>https://example.com/ml-python-portfolio</td>\n",
       "    </tr>\n",
       "    <tr>\n",
       "      <th>19</th>\n",
       "      <td>DevOps, Jenkins, Docker</td>\n",
       "      <td>https://example.com/devops-portfolio</td>\n",
       "    </tr>\n",
       "  </tbody>\n",
       "</table>\n",
       "</div>"
      ],
      "text/plain": [
       "                               Techstack  \\\n",
       "0                React, Node.js, MongoDB   \n",
       "1               Angular,.NET, SQL Server   \n",
       "2      Vue.js, Ruby on Rails, PostgreSQL   \n",
       "3                  Python, Django, MySQL   \n",
       "4              Java, Spring Boot, Oracle   \n",
       "5             Flutter, Firebase, GraphQL   \n",
       "6                  WordPress, PHP, MySQL   \n",
       "7                    Magento, PHP, MySQL   \n",
       "8         React Native, Node.js, MongoDB   \n",
       "9                  iOS, Swift, Core Data   \n",
       "10       Android, Java, Room Persistence   \n",
       "11             Kotlin, Android, Firebase   \n",
       "12       Android TV, Kotlin, Android NDK   \n",
       "13                     iOS, Swift, ARKit   \n",
       "14        Cross-platform, Xamarin, Azure   \n",
       "15          Backend, Kotlin, Spring Boot   \n",
       "16         Frontend, TypeScript, Angular   \n",
       "17    Full-stack, JavaScript, Express.js   \n",
       "18  Machine Learning, Python, TensorFlow   \n",
       "19               DevOps, Jenkins, Docker   \n",
       "\n",
       "                                                Links  \n",
       "0                 https://example.com/react-portfolio  \n",
       "1               https://example.com/angular-portfolio  \n",
       "2                   https://example.com/vue-portfolio  \n",
       "3                https://example.com/python-portfolio  \n",
       "4                  https://example.com/java-portfolio  \n",
       "5               https://example.com/flutter-portfolio  \n",
       "6             https://example.com/wordpress-portfolio  \n",
       "7               https://example.com/magento-portfolio  \n",
       "8          https://example.com/react-native-portfolio  \n",
       "9                   https://example.com/ios-portfolio  \n",
       "10              https://example.com/android-portfolio  \n",
       "11       https://example.com/kotlin-android-portfolio  \n",
       "12           https://example.com/android-tv-portfolio  \n",
       "13               https://example.com/ios-ar-portfolio  \n",
       "14              https://example.com/xamarin-portfolio  \n",
       "15       https://example.com/kotlin-backend-portfolio  \n",
       "16  https://example.com/typescript-frontend-portfolio  \n",
       "17        https://example.com/full-stack-js-portfolio  \n",
       "18            https://example.com/ml-python-portfolio  \n",
       "19               https://example.com/devops-portfolio  "
      ]
     },
     "execution_count": 6,
     "metadata": {},
     "output_type": "execute_result"
    }
   ],
   "source": [
    "import pandas as pd\n",
    "df=pd.read_csv(\"my_portfolio.csv\")\n",
    "df"
   ]
  },
  {
   "cell_type": "code",
   "execution_count": 8,
   "id": "41cc9978-c938-4934-bdc4-df8beff41333",
   "metadata": {},
   "outputs": [],
   "source": [
    "import chromadb\n",
    "import uuid\n",
    "\n",
    "client= chromadb.PersistentClient('vectorstore')\n",
    "collection=client.get_or_create_collection(name=\"porfolio\")\n",
    "if not collection.count():\n",
    "    for _,row in df.iterrows():\n",
    "        collection.add(documents=row[\"Techstack\"],\n",
    "                      metadatas={\"links\":row[\"Links\"]},\n",
    "                      ids=[str(uuid.uuid4())])\n",
    "                            "
   ]
  },
  {
   "cell_type": "code",
   "execution_count": 9,
   "id": "a24991f3-60ec-4fe9-98a2-38ff8d326663",
   "metadata": {},
   "outputs": [
    {
     "data": {
      "text/plain": [
       "[[{'links': 'https://example.com/java-portfolio'},\n",
       "  {'links': 'https://example.com/android-portfolio'}],\n",
       " [{'links': 'https://example.com/ml-python-portfolio'},\n",
       "  {'links': 'https://example.com/python-portfolio'}],\n",
       " [{'links': 'https://example.com/ios-ar-portfolio'},\n",
       "  {'links': 'https://example.com/wordpress-portfolio'}]]"
      ]
     },
     "execution_count": 9,
     "metadata": {},
     "output_type": "execute_result"
    }
   ],
   "source": [
    "links=collection.query(query_texts=['Java', 'Python', 'AWS'],n_results=2).get('metadatas')\n",
    "links"
   ]
  },
  {
   "cell_type": "code",
   "execution_count": 10,
   "id": "0cbefa11-f807-445f-ac3d-3c21a432b3a3",
   "metadata": {},
   "outputs": [
    {
     "data": {
      "text/plain": [
       "['Java', 'Spring Boot', 'MySQL']"
      ]
     },
     "execution_count": 10,
     "metadata": {},
     "output_type": "execute_result"
    }
   ],
   "source": [
    "job=json_res\n",
    "job['skills']\n"
   ]
  },
  {
   "cell_type": "code",
   "execution_count": 11,
   "id": "8ed1043c-5caf-410c-ba25-07e3ebba131c",
   "metadata": {},
   "outputs": [
    {
     "data": {
      "text/plain": [
       "{'role': 'Software Engineer',\n",
       " 'experience': '3-5 years',\n",
       " 'skills': ['Java', 'Spring Boot', 'MySQL'],\n",
       " 'description': 'We are looking for a skilled Software Engineer to join our team. The ideal candidate will have experience in Java, Spring Boot, and MySQL. Responsibilities include designing, developing, and testing software applications.'}"
      ]
     },
     "execution_count": 11,
     "metadata": {},
     "output_type": "execute_result"
    }
   ],
   "source": [
    "job"
   ]
  },
  {
   "cell_type": "code",
   "execution_count": 12,
   "id": "1349e7d0-42c7-439c-a7d0-6479237beb84",
   "metadata": {},
   "outputs": [
    {
     "name": "stdout",
     "output_type": "stream",
     "text": [
      "Subject: Revolutionizing Software Development with AI-Powered Solutions\n",
      "\n",
      "Dear Hiring Manager,\n",
      "\n",
      "I'm excited to apply for the Software Engineer position at your esteemed organization. With a strong background in AI and software development from NIT Kurukshetra, I'm confident that my expertise in designing and deploying cutting-edge solutions can fulfill your needs.\n",
      "\n",
      "As a skilled developer with experience in building AI-powered tools, I've developed a unique ability to leverage AI to solve practical problems. My proficiency in Python, Streamlit, and LangChain enables me to create tailored automation solutions that streamline processes and enhance efficiency.\n",
      "\n",
      "I understand that your organization is looking for a candidate with experience in Java, Spring Boot, and MySQL. Although my primary expertise lies in Python, I'm eager to adapt my skills to your technology stack. My experience in building AI-powered solutions has taught me the importance of semantic search and matching, which I believe can be valuable assets in designing and developing software applications.\n",
      "\n",
      "I'd like to highlight a few projects that demonstrate my capabilities:\n",
      "\n",
      "* Cold Email Generator using ChromaDB, LLMs, and Groq Cloud: [https://example.com/ml-python-portfolio](https://example.com/ml-python-portfolio)\n",
      "* AI-powered Resume Tailoring Tool using Llama 3.1 and semantic matching: [https://example.com/python-portfolio](https://example.com/python-portfolio)\n",
      "\n",
      "These projects showcase my ability to design and deploy innovative solutions that leverage AI to solve real-world problems. I'm excited about the prospect of bringing my skills and expertise to your organization and contributing to the development of cutting-edge software applications.\n",
      "\n",
      "Thank you for considering my application. I look forward to discussing my qualifications further and exploring how I can contribute to your team's success.\n",
      "\n",
      "Best regards,\n",
      "\n",
      "Shubham Baghel\n"
     ]
    }
   ],
   "source": [
    "prompt_email = PromptTemplate.from_template(\n",
    "    \"\"\"\n",
    "    ### JOB DESCRIPTION:\n",
    "    {job_description}\n",
    "    \n",
    "    ### INSTRUCTION:\n",
    "    You are Shubham Baghel, a skilled AI and software developer from NIT Kurukshetra with a strong focus on leveraging AI to solve practical problems. \n",
    "    You have built tools like a Cold Email Generator using ChromaDB, LLMs, and Groq Cloud, as well as an AI-powered Resume Tailoring Tool \n",
    "    that optimizes resumes using Llama 3.1 and semantic matching. \n",
    "    Your goal is to write a cold email addressing the job requirements mentioned above, showcasing how your expertise in AI-powered solutions, \n",
    "    semantic search, and tailored automation can fulfill the client's needs. \n",
    "    Highlight your skills in Python, Streamlit, and LangChain, and demonstrate your ability to design and deploy cutting-edge solutions. \n",
    "    Include links to your most relevant projects: {link_list}.\n",
    "    Do not provide a preamble.\n",
    "    \n",
    "    ### EMAIL (NO PREAMBLE):\n",
    "    \n",
    "    \"\"\"\n",
    ")\n",
    "\n",
    "chain_email = prompt_email | llm\n",
    "res = chain_email.invoke({\"job_description\": str(job), \"link_list\": links})\n",
    "print(res.content)\n"
   ]
  },
  {
   "cell_type": "code",
   "execution_count": null,
   "id": "86067420-2076-44cb-b5cb-7e43dfec1a09",
   "metadata": {},
   "outputs": [],
   "source": []
  },
  {
   "cell_type": "code",
   "execution_count": null,
   "id": "423e32fc",
   "metadata": {},
   "outputs": [],
   "source": []
  }
 ],
 "metadata": {
  "kernelspec": {
   "display_name": "Python 3 (ipykernel)",
   "language": "python",
   "name": "python3"
  },
  "language_info": {
   "codemirror_mode": {
    "name": "ipython",
    "version": 3
   },
   "file_extension": ".py",
   "mimetype": "text/x-python",
   "name": "python",
   "nbconvert_exporter": "python",
   "pygments_lexer": "ipython3",
   "version": "3.12.4"
  }
 },
 "nbformat": 4,
 "nbformat_minor": 5
}
